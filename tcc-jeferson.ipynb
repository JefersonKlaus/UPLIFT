{
 "cells": [
  {
   "cell_type": "markdown",
   "metadata": {
    "papermill": {
     "duration": 0.027293,
     "end_time": "2020-10-05T10:36:58.911987",
     "exception": false,
     "start_time": "2020-10-05T10:36:58.884694",
     "status": "completed"
    },
    "tags": []
   },
   "source": [
    "Esta é uma versão do modelo Uplift VS Churn Prediction do experimento de [Davin Wijaya](https://github.com/wijayadavin/employee_uplift_machine_learning/blob/master/eng_uplift_vs_turnover.ipynb)"
   ]
  },
  {
   "cell_type": "markdown",
   "metadata": {
    "papermill": {
     "duration": 0.025722,
     "end_time": "2020-10-05T10:36:58.965697",
     "exception": false,
     "start_time": "2020-10-05T10:36:58.939975",
     "status": "completed"
    },
    "tags": []
   },
   "source": [
    "# 1. Configurações iniciais\n",
    "* Importação das bibliotecas\n",
    "* Importação do dataset\n",
    "* verificação das versões"
   ]
  },
  {
   "cell_type": "code",
   "execution_count": 655,
   "metadata": {
    "_cell_guid": "b1076dfc-b9ad-4769-8c92-a6c4dae69d19",
    "_uuid": "8f2839f25d086af736a60e9eeb907d3b93b6e0e5",
    "execution": {
     "iopub.execute_input": "2020-10-05T10:36:59.024145Z",
     "iopub.status.busy": "2020-10-05T10:36:59.023403Z",
     "iopub.status.idle": "2020-10-05T10:37:00.448625Z",
     "shell.execute_reply": "2020-10-05T10:37:00.447883Z"
    },
    "papermill": {
     "duration": 1.456943,
     "end_time": "2020-10-05T10:37:00.448748",
     "exception": false,
     "start_time": "2020-10-05T10:36:58.991805",
     "status": "completed"
    },
    "tags": []
   },
   "outputs": [],
   "source": [
    "import matplotlib as mpl, matplotlib.pyplot as plt, pandas as pd, seaborn as sns, sklearn as sk\n",
    "from sklearn.metrics import (\n",
    "    accuracy_score,\n",
    "    confusion_matrix,\n",
    "    multilabel_confusion_matrix,\n",
    ")\n",
    "from sklearn.ensemble import RandomForestClassifier\n",
    "from sklearn.model_selection import train_test_split\n",
    "from sklearn.neighbors import KNeighborsClassifier\n",
    "import xgboost as xgb\n",
    "import numpy as np"
   ]
  },
  {
   "cell_type": "code",
   "execution_count": 656,
   "metadata": {
    "_cell_guid": "79c7e3d0-c299-4dcb-8224-4455121ee9b0",
    "_uuid": "d629ff2d2480ee46fbb7e2d37f6b5fab8052498a",
    "execution": {
     "iopub.execute_input": "2020-10-05T10:37:00.507359Z",
     "iopub.status.busy": "2020-10-05T10:37:00.506450Z",
     "iopub.status.idle": "2020-10-05T10:37:00.511619Z",
     "shell.execute_reply": "2020-10-05T10:37:00.510980Z"
    },
    "papermill": {
     "duration": 0.036341,
     "end_time": "2020-10-05T10:37:00.511729",
     "exception": false,
     "start_time": "2020-10-05T10:37:00.475388",
     "status": "completed"
    },
    "tags": []
   },
   "outputs": [
    {
     "name": "stdout",
     "output_type": "stream",
     "text": [
      "Matplotlib Version 3.4.3\n",
      "Pandas Version 1.3.4\n",
      "Seaborn Version 0.11.2\n",
      "Sci-kit learn Version 0.24.2\n"
     ]
    }
   ],
   "source": [
    "# Checking for package version\n",
    "print(\"Matplotlib Version\", mpl.__version__)\n",
    "print(\"Pandas Version\", pd.__version__)\n",
    "print(\"Seaborn Version\", sns.__version__)\n",
    "print(\"Sci-kit learn Version\", sk.__version__)"
   ]
  },
  {
   "cell_type": "code",
   "execution_count": 657,
   "metadata": {
    "execution": {
     "iopub.execute_input": "2020-10-05T10:37:00.575530Z",
     "iopub.status.busy": "2020-10-05T10:37:00.574895Z",
     "iopub.status.idle": "2020-10-05T10:37:00.640303Z",
     "shell.execute_reply": "2020-10-05T10:37:00.639594Z"
    },
    "papermill": {
     "duration": 0.101851,
     "end_time": "2020-10-05T10:37:00.640424",
     "exception": false,
     "start_time": "2020-10-05T10:37:00.538573",
     "status": "completed"
    },
    "tags": []
   },
   "outputs": [],
   "source": [
    "df_data = pd.read_csv(\"turnover.csv\", encoding=\"ISO-8859-1\")\n",
    "df_model = df_data.copy()"
   ]
  },
  {
   "cell_type": "markdown",
   "metadata": {
    "papermill": {
     "duration": 0.026296,
     "end_time": "2020-10-05T10:37:00.693314",
     "exception": false,
     "start_time": "2020-10-05T10:37:00.667018",
     "status": "completed"
    },
    "tags": []
   },
   "source": [
    "# 2. Exploração dos dados\n",
    "* Identificação das colunas\n",
    "* Identificação da existencia de NULOS"
   ]
  },
  {
   "cell_type": "code",
   "execution_count": 658,
   "metadata": {
    "execution": {
     "iopub.execute_input": "2020-10-05T10:37:00.985079Z",
     "iopub.status.busy": "2020-10-05T10:37:00.984170Z",
     "iopub.status.idle": "2020-10-05T10:37:00.988927Z",
     "shell.execute_reply": "2020-10-05T10:37:00.988332Z"
    },
    "papermill": {
     "duration": 0.052002,
     "end_time": "2020-10-05T10:37:00.989040",
     "exception": false,
     "start_time": "2020-10-05T10:37:00.937038",
     "status": "completed"
    },
    "tags": []
   },
   "outputs": [
    {
     "data": {
      "text/html": [
       "<div>\n",
       "<style scoped>\n",
       "    .dataframe tbody tr th:only-of-type {\n",
       "        vertical-align: middle;\n",
       "    }\n",
       "\n",
       "    .dataframe tbody tr th {\n",
       "        vertical-align: top;\n",
       "    }\n",
       "\n",
       "    .dataframe thead th {\n",
       "        text-align: right;\n",
       "    }\n",
       "</style>\n",
       "<table border=\"1\" class=\"dataframe\">\n",
       "  <thead>\n",
       "    <tr style=\"text-align: right;\">\n",
       "      <th></th>\n",
       "      <th>stag</th>\n",
       "      <th>event</th>\n",
       "      <th>gender</th>\n",
       "      <th>age</th>\n",
       "      <th>industry</th>\n",
       "      <th>profession</th>\n",
       "      <th>traffic</th>\n",
       "      <th>coach</th>\n",
       "      <th>head_gender</th>\n",
       "      <th>greywage</th>\n",
       "      <th>way</th>\n",
       "      <th>extraversion</th>\n",
       "      <th>independ</th>\n",
       "      <th>selfcontrol</th>\n",
       "      <th>anxiety</th>\n",
       "      <th>novator</th>\n",
       "    </tr>\n",
       "  </thead>\n",
       "  <tbody>\n",
       "    <tr>\n",
       "      <th>0</th>\n",
       "      <td>7.030801</td>\n",
       "      <td>1</td>\n",
       "      <td>m</td>\n",
       "      <td>35.0</td>\n",
       "      <td>Banks</td>\n",
       "      <td>HR</td>\n",
       "      <td>rabrecNErab</td>\n",
       "      <td>no</td>\n",
       "      <td>f</td>\n",
       "      <td>white</td>\n",
       "      <td>bus</td>\n",
       "      <td>6.2</td>\n",
       "      <td>4.1</td>\n",
       "      <td>5.7</td>\n",
       "      <td>7.1</td>\n",
       "      <td>8.3</td>\n",
       "    </tr>\n",
       "    <tr>\n",
       "      <th>1</th>\n",
       "      <td>22.965092</td>\n",
       "      <td>1</td>\n",
       "      <td>m</td>\n",
       "      <td>33.0</td>\n",
       "      <td>Banks</td>\n",
       "      <td>HR</td>\n",
       "      <td>empjs</td>\n",
       "      <td>no</td>\n",
       "      <td>m</td>\n",
       "      <td>white</td>\n",
       "      <td>bus</td>\n",
       "      <td>6.2</td>\n",
       "      <td>4.1</td>\n",
       "      <td>5.7</td>\n",
       "      <td>7.1</td>\n",
       "      <td>8.3</td>\n",
       "    </tr>\n",
       "    <tr>\n",
       "      <th>2</th>\n",
       "      <td>15.934292</td>\n",
       "      <td>1</td>\n",
       "      <td>f</td>\n",
       "      <td>35.0</td>\n",
       "      <td>PowerGeneration</td>\n",
       "      <td>HR</td>\n",
       "      <td>rabrecNErab</td>\n",
       "      <td>no</td>\n",
       "      <td>m</td>\n",
       "      <td>white</td>\n",
       "      <td>bus</td>\n",
       "      <td>6.2</td>\n",
       "      <td>6.2</td>\n",
       "      <td>2.6</td>\n",
       "      <td>4.8</td>\n",
       "      <td>8.3</td>\n",
       "    </tr>\n",
       "    <tr>\n",
       "      <th>3</th>\n",
       "      <td>15.934292</td>\n",
       "      <td>1</td>\n",
       "      <td>f</td>\n",
       "      <td>35.0</td>\n",
       "      <td>PowerGeneration</td>\n",
       "      <td>HR</td>\n",
       "      <td>rabrecNErab</td>\n",
       "      <td>no</td>\n",
       "      <td>m</td>\n",
       "      <td>white</td>\n",
       "      <td>bus</td>\n",
       "      <td>5.4</td>\n",
       "      <td>7.6</td>\n",
       "      <td>4.9</td>\n",
       "      <td>2.5</td>\n",
       "      <td>6.7</td>\n",
       "    </tr>\n",
       "    <tr>\n",
       "      <th>4</th>\n",
       "      <td>8.410678</td>\n",
       "      <td>1</td>\n",
       "      <td>m</td>\n",
       "      <td>32.0</td>\n",
       "      <td>Retail</td>\n",
       "      <td>Commercial</td>\n",
       "      <td>youjs</td>\n",
       "      <td>yes</td>\n",
       "      <td>f</td>\n",
       "      <td>white</td>\n",
       "      <td>bus</td>\n",
       "      <td>3.0</td>\n",
       "      <td>4.1</td>\n",
       "      <td>8.0</td>\n",
       "      <td>7.1</td>\n",
       "      <td>3.7</td>\n",
       "    </tr>\n",
       "  </tbody>\n",
       "</table>\n",
       "</div>"
      ],
      "text/plain": [
       "        stag  event gender   age         industry  profession      traffic  \\\n",
       "0   7.030801      1      m  35.0            Banks          HR  rabrecNErab   \n",
       "1  22.965092      1      m  33.0            Banks          HR        empjs   \n",
       "2  15.934292      1      f  35.0  PowerGeneration          HR  rabrecNErab   \n",
       "3  15.934292      1      f  35.0  PowerGeneration          HR  rabrecNErab   \n",
       "4   8.410678      1      m  32.0           Retail  Commercial        youjs   \n",
       "\n",
       "  coach head_gender greywage  way  extraversion  independ  selfcontrol  \\\n",
       "0    no           f    white  bus           6.2       4.1          5.7   \n",
       "1    no           m    white  bus           6.2       4.1          5.7   \n",
       "2    no           m    white  bus           6.2       6.2          2.6   \n",
       "3    no           m    white  bus           5.4       7.6          4.9   \n",
       "4   yes           f    white  bus           3.0       4.1          8.0   \n",
       "\n",
       "   anxiety  novator  \n",
       "0      7.1      8.3  \n",
       "1      7.1      8.3  \n",
       "2      4.8      8.3  \n",
       "3      2.5      6.7  \n",
       "4      7.1      3.7  "
      ]
     },
     "execution_count": 658,
     "metadata": {},
     "output_type": "execute_result"
    }
   ],
   "source": [
    "# Explore dataset 3\n",
    "df_data.head(5)\n",
    "\n",
    "# https://www.kaggle.com/datasets/davinwijaya/employee-turnover\n",
    "# stag                  - float             => Experiencia;\n",
    "# event                 - 0 E 1             => Demitido ou nao\n",
    "# gender                - [m, f]\n",
    "# age                   - int\n",
    "# industry              - list              => Setor da empresa\n",
    "# profession            - list              => Setor do funcionário\n",
    "# traffic               - list              => Forma que o funcionario chegou à empresa\n",
    "# coach                 - list              => Presença de um tratamento\n",
    "# head_gender           - [m, f]            => sexo do supervisor\n",
    "# greywage              - [grey, white]     => grey=paga taxas / white=nao paga taxas\n",
    "# way                   - list              => how an employee gets to workplace (by feet, by bus etc);\n",
    "# extraversion          - 0 a 1\n",
    "# independ              - 0 a 1\n",
    "# selfcontrol           - 0 a 1\n",
    "# anxiety               - 0 a 1\n",
    "# novator               - 0 a 1"
   ]
  },
  {
   "cell_type": "code",
   "execution_count": 659,
   "metadata": {
    "execution": {
     "iopub.execute_input": "2020-10-05T10:37:01.055233Z",
     "iopub.status.busy": "2020-10-05T10:37:01.054358Z",
     "iopub.status.idle": "2020-10-05T10:37:01.065063Z",
     "shell.execute_reply": "2020-10-05T10:37:01.064584Z"
    },
    "papermill": {
     "duration": 0.046868,
     "end_time": "2020-10-05T10:37:01.065175",
     "exception": false,
     "start_time": "2020-10-05T10:37:01.018307",
     "status": "completed"
    },
    "tags": []
   },
   "outputs": [
    {
     "data": {
      "text/plain": [
       "False"
      ]
     },
     "metadata": {},
     "output_type": "display_data"
    }
   ],
   "source": [
    "# valida se tem nulos\n",
    "display(df_data.isnull().values.any())"
   ]
  },
  {
   "cell_type": "markdown",
   "metadata": {
    "papermill": {
     "duration": 0.028964,
     "end_time": "2020-10-05T10:37:01.182354",
     "exception": false,
     "start_time": "2020-10-05T10:37:01.153390",
     "status": "completed"
    },
    "tags": []
   },
   "source": [
    "# 3. Processamento dos Dados"
   ]
  },
  {
   "cell_type": "code",
   "execution_count": 660,
   "metadata": {
    "execution": {
     "iopub.execute_input": "2020-10-05T10:37:01.394686Z",
     "iopub.status.busy": "2020-10-05T10:37:01.394031Z",
     "iopub.status.idle": "2020-10-05T10:37:01.400021Z",
     "shell.execute_reply": "2020-10-05T10:37:01.399473Z"
    },
    "papermill": {
     "duration": 0.041167,
     "end_time": "2020-10-05T10:37:01.400129",
     "exception": false,
     "start_time": "2020-10-05T10:37:01.358962",
     "status": "completed"
    },
    "tags": []
   },
   "outputs": [
    {
     "data": {
      "text/html": [
       "<div>\n",
       "<style scoped>\n",
       "    .dataframe tbody tr th:only-of-type {\n",
       "        vertical-align: middle;\n",
       "    }\n",
       "\n",
       "    .dataframe tbody tr th {\n",
       "        vertical-align: top;\n",
       "    }\n",
       "\n",
       "    .dataframe thead th {\n",
       "        text-align: right;\n",
       "    }\n",
       "</style>\n",
       "<table border=\"1\" class=\"dataframe\">\n",
       "  <thead>\n",
       "    <tr style=\"text-align: right;\">\n",
       "      <th></th>\n",
       "      <th>churn</th>\n",
       "      <th>gender</th>\n",
       "      <th>age</th>\n",
       "      <th>industry</th>\n",
       "      <th>profession</th>\n",
       "      <th>treatment</th>\n",
       "      <th>way</th>\n",
       "      <th>extraversion</th>\n",
       "      <th>independ</th>\n",
       "      <th>selfcontrol</th>\n",
       "      <th>anxiety</th>\n",
       "      <th>novator</th>\n",
       "    </tr>\n",
       "  </thead>\n",
       "  <tbody>\n",
       "    <tr>\n",
       "      <th>0</th>\n",
       "      <td>1</td>\n",
       "      <td>m</td>\n",
       "      <td>35.0</td>\n",
       "      <td>Banks</td>\n",
       "      <td>HR</td>\n",
       "      <td>no</td>\n",
       "      <td>bus</td>\n",
       "      <td>6.2</td>\n",
       "      <td>4.1</td>\n",
       "      <td>5.7</td>\n",
       "      <td>7.1</td>\n",
       "      <td>8.3</td>\n",
       "    </tr>\n",
       "    <tr>\n",
       "      <th>1</th>\n",
       "      <td>1</td>\n",
       "      <td>m</td>\n",
       "      <td>33.0</td>\n",
       "      <td>Banks</td>\n",
       "      <td>HR</td>\n",
       "      <td>no</td>\n",
       "      <td>bus</td>\n",
       "      <td>6.2</td>\n",
       "      <td>4.1</td>\n",
       "      <td>5.7</td>\n",
       "      <td>7.1</td>\n",
       "      <td>8.3</td>\n",
       "    </tr>\n",
       "    <tr>\n",
       "      <th>2</th>\n",
       "      <td>1</td>\n",
       "      <td>f</td>\n",
       "      <td>35.0</td>\n",
       "      <td>PowerGeneration</td>\n",
       "      <td>HR</td>\n",
       "      <td>no</td>\n",
       "      <td>bus</td>\n",
       "      <td>6.2</td>\n",
       "      <td>6.2</td>\n",
       "      <td>2.6</td>\n",
       "      <td>4.8</td>\n",
       "      <td>8.3</td>\n",
       "    </tr>\n",
       "    <tr>\n",
       "      <th>3</th>\n",
       "      <td>1</td>\n",
       "      <td>f</td>\n",
       "      <td>35.0</td>\n",
       "      <td>PowerGeneration</td>\n",
       "      <td>HR</td>\n",
       "      <td>no</td>\n",
       "      <td>bus</td>\n",
       "      <td>5.4</td>\n",
       "      <td>7.6</td>\n",
       "      <td>4.9</td>\n",
       "      <td>2.5</td>\n",
       "      <td>6.7</td>\n",
       "    </tr>\n",
       "    <tr>\n",
       "      <th>4</th>\n",
       "      <td>1</td>\n",
       "      <td>m</td>\n",
       "      <td>32.0</td>\n",
       "      <td>Retail</td>\n",
       "      <td>Commercial</td>\n",
       "      <td>yes</td>\n",
       "      <td>bus</td>\n",
       "      <td>3.0</td>\n",
       "      <td>4.1</td>\n",
       "      <td>8.0</td>\n",
       "      <td>7.1</td>\n",
       "      <td>3.7</td>\n",
       "    </tr>\n",
       "  </tbody>\n",
       "</table>\n",
       "</div>"
      ],
      "text/plain": [
       "   churn gender   age         industry  profession treatment  way  \\\n",
       "0      1      m  35.0            Banks          HR        no  bus   \n",
       "1      1      m  33.0            Banks          HR        no  bus   \n",
       "2      1      f  35.0  PowerGeneration          HR        no  bus   \n",
       "3      1      f  35.0  PowerGeneration          HR        no  bus   \n",
       "4      1      m  32.0           Retail  Commercial       yes  bus   \n",
       "\n",
       "   extraversion  independ  selfcontrol  anxiety  novator  \n",
       "0           6.2       4.1          5.7      7.1      8.3  \n",
       "1           6.2       4.1          5.7      7.1      8.3  \n",
       "2           6.2       6.2          2.6      4.8      8.3  \n",
       "3           5.4       7.6          4.9      2.5      6.7  \n",
       "4           3.0       4.1          8.0      7.1      3.7  "
      ]
     },
     "execution_count": 660,
     "metadata": {},
     "output_type": "execute_result"
    }
   ],
   "source": [
    "# Renomeando o alvo\n",
    "df_model = df_model.rename(columns={\"event\": \"churn\"})\n",
    "# Renomeando a variavel de tratamento\n",
    "df_model = df_model.rename(columns={\"coach\": \"treatment\"})\n",
    "\n",
    "# Mantendo apenas dados de personalidades e auxiliares\n",
    "df_model.drop(\"stag\", inplace=True, axis=1)\n",
    "df_model.drop(\"traffic\", inplace=True, axis=1)\n",
    "df_model.drop(\"head_gender\", inplace=True, axis=1)\n",
    "df_model.drop(\"greywage\", inplace=True, axis=1)\n",
    "# df_model.drop('way', inplace=True, axis=1)\n",
    "df_model.head(5)"
   ]
  },
  {
   "cell_type": "code",
   "execution_count": 661,
   "metadata": {
    "execution": {
     "iopub.execute_input": "2020-10-05T10:37:01.467309Z",
     "iopub.status.busy": "2020-10-05T10:37:01.466662Z",
     "iopub.status.idle": "2020-10-05T10:37:01.486346Z",
     "shell.execute_reply": "2020-10-05T10:37:01.485801Z"
    },
    "papermill": {
     "duration": 0.056564,
     "end_time": "2020-10-05T10:37:01.486465",
     "exception": false,
     "start_time": "2020-10-05T10:37:01.429901",
     "status": "completed"
    },
    "tags": []
   },
   "outputs": [
    {
     "data": {
      "text/plain": [
       "'treatment'"
      ]
     },
     "metadata": {},
     "output_type": "display_data"
    },
    {
     "data": {
      "text/plain": [
       "array(['no', 'yes', 'my head'], dtype=object)"
      ]
     },
     "metadata": {},
     "output_type": "display_data"
    }
   ],
   "source": [
    "# Declara os parametros para codificação de rótulos\n",
    "for col in [\"treatment\"]:\n",
    "    display(col, df_model[col].unique())"
   ]
  },
  {
   "cell_type": "code",
   "execution_count": 662,
   "metadata": {
    "execution": {
     "iopub.execute_input": "2020-10-05T10:37:01.722027Z",
     "iopub.status.busy": "2020-10-05T10:37:01.721355Z",
     "iopub.status.idle": "2020-10-05T10:37:01.744695Z",
     "shell.execute_reply": "2020-10-05T10:37:01.743977Z"
    },
    "papermill": {
     "duration": 0.06504,
     "end_time": "2020-10-05T10:37:01.744816",
     "exception": false,
     "start_time": "2020-10-05T10:37:01.679776",
     "status": "completed"
    },
    "tags": []
   },
   "outputs": [],
   "source": [
    "# Rotula manualmente o tratamento com 3 valores\n",
    "df_model.treatment = df_model.treatment.map({\"yes\": 0, \"no\": 1, \"my head\": 2})\n",
    "df_model = df_model.loc[df_model.treatment <= 1].reset_index(drop=True)"
   ]
  },
  {
   "cell_type": "markdown",
   "metadata": {
    "papermill": {
     "duration": 0.037644,
     "end_time": "2020-10-05T10:37:01.816542",
     "exception": false,
     "start_time": "2020-10-05T10:37:01.778898",
     "status": "completed"
    },
    "tags": []
   },
   "source": [
    "Transformação dos dados de string/objeto em inteiros com a função get_dummies (One hot encoding) do pacote Pandas, para que possamos alimentar os dados no classificador. Além disso, adiciono outro dataframe df_model_inverse que será útil para mais tarde:"
   ]
  },
  {
   "cell_type": "code",
   "execution_count": 663,
   "metadata": {
    "execution": {
     "iopub.execute_input": "2020-10-05T10:37:01.896446Z",
     "iopub.status.busy": "2020-10-05T10:37:01.895502Z",
     "iopub.status.idle": "2020-10-05T10:37:01.944173Z",
     "shell.execute_reply": "2020-10-05T10:37:01.944657Z"
    },
    "papermill": {
     "duration": 0.092047,
     "end_time": "2020-10-05T10:37:01.944823",
     "exception": false,
     "start_time": "2020-10-05T10:37:01.852776",
     "status": "completed"
    },
    "tags": []
   },
   "outputs": [],
   "source": [
    "# Codificação One-Hot:\n",
    "df_model, df_model_inverse = pd.get_dummies(df_model), pd.get_dummies(df_model)"
   ]
  },
  {
   "cell_type": "markdown",
   "metadata": {
    "papermill": {
     "duration": 0.033778,
     "end_time": "2020-10-05T10:37:02.012804",
     "exception": false,
     "start_time": "2020-10-05T10:37:01.979026",
     "status": "completed"
    },
    "tags": []
   },
   "source": [
    "verificação da correlação do tratamento com a rotatividade de funcionários:"
   ]
  },
  {
   "cell_type": "code",
   "execution_count": 664,
   "metadata": {
    "execution": {
     "iopub.execute_input": "2020-10-05T10:37:02.088027Z",
     "iopub.status.busy": "2020-10-05T10:37:02.087432Z",
     "iopub.status.idle": "2020-10-05T10:37:02.090830Z",
     "shell.execute_reply": "2020-10-05T10:37:02.090178Z"
    },
    "papermill": {
     "duration": 0.043089,
     "end_time": "2020-10-05T10:37:02.090940",
     "exception": false,
     "start_time": "2020-10-05T10:37:02.047851",
     "status": "completed"
    },
    "tags": []
   },
   "outputs": [],
   "source": [
    "def correlation_treatment(df: pd.DataFrame):\n",
    "    \"\"\"\n",
    "    Clacula a correlação de tratamento\n",
    "    \"\"\"\n",
    "    correlation = df[[\"treatment\", \"churn\"]].corr(method=\"pearson\")\n",
    "    return pd.DataFrame(round(correlation.loc[\"churn\"] * 100, 2))"
   ]
  },
  {
   "cell_type": "code",
   "execution_count": 665,
   "metadata": {
    "execution": {
     "iopub.execute_input": "2020-10-05T10:37:02.170264Z",
     "iopub.status.busy": "2020-10-05T10:37:02.169602Z",
     "iopub.status.idle": "2020-10-05T10:37:02.181603Z",
     "shell.execute_reply": "2020-10-05T10:37:02.180921Z"
    },
    "papermill": {
     "duration": 0.05653,
     "end_time": "2020-10-05T10:37:02.181773",
     "exception": false,
     "start_time": "2020-10-05T10:37:02.125243",
     "status": "completed"
    },
    "tags": []
   },
   "outputs": [
    {
     "name": "stdout",
     "output_type": "stream",
     "text": [
      "Dataset: -4.0\n",
      "           treatment     churn\n",
      "treatment   1.000000 -0.040031\n",
      "churn      -0.040031  1.000000\n"
     ]
    }
   ],
   "source": [
    "print(\"Dataset:\", correlation_treatment(df_model).iloc[0, 0])\n",
    "print(df_model[[\"treatment\", \"churn\"]].corr(method=\"pearson\"))"
   ]
  },
  {
   "cell_type": "markdown",
   "metadata": {
    "papermill": {
     "duration": 0.034215,
     "end_time": "2020-10-05T10:37:02.251332",
     "exception": false,
     "start_time": "2020-10-05T10:37:02.217117",
     "status": "completed"
    },
    "tags": []
   },
   "source": [
    "Todas as características do tratamento estão correlacionadas negativamente. Sera utilizado os positivos mais tarde no final deste projeto. Em seguida, sera adicionado as quatro categorias de aprimoramento para cada conjunto de dados:"
   ]
  },
  {
   "cell_type": "code",
   "execution_count": 666,
   "metadata": {
    "execution": {
     "iopub.execute_input": "2020-10-05T10:37:02.327805Z",
     "iopub.status.busy": "2020-10-05T10:37:02.326923Z",
     "iopub.status.idle": "2020-10-05T10:37:02.329841Z",
     "shell.execute_reply": "2020-10-05T10:37:02.330329Z"
    },
    "papermill": {
     "duration": 0.044775,
     "end_time": "2020-10-05T10:37:02.330470",
     "exception": false,
     "start_time": "2020-10-05T10:37:02.285695",
     "status": "completed"
    },
    "tags": []
   },
   "outputs": [],
   "source": [
    "def declare_target_class(df: pd.DataFrame):\n",
    "    \"\"\"\n",
    "    Declara a classe alvo\n",
    "    \"\"\"\n",
    "    # CN - Control Non-Responders:\n",
    "    df[\"target_class\"] = 0\n",
    "    # CR - Control Responders:\n",
    "    df.loc[(df.treatment == 0) & (df.churn == 0), \"target_class\"] = 1\n",
    "    # TN - Treadted Non-Responders:\n",
    "    df.loc[(df.treatment == 1) & (df.churn == 1), \"target_class\"] = 2\n",
    "    # TR - Treated Responders:\n",
    "    df.loc[(df.treatment == 1) & (df.churn == 0), \"target_class\"] = 3\n",
    "    return df"
   ]
  },
  {
   "cell_type": "code",
   "execution_count": 667,
   "metadata": {
    "execution": {
     "iopub.execute_input": "2020-10-05T10:37:02.406862Z",
     "iopub.status.busy": "2020-10-05T10:37:02.406176Z",
     "iopub.status.idle": "2020-10-05T10:37:02.422981Z",
     "shell.execute_reply": "2020-10-05T10:37:02.422478Z"
    },
    "papermill": {
     "duration": 0.058076,
     "end_time": "2020-10-05T10:37:02.423093",
     "exception": false,
     "start_time": "2020-10-05T10:37:02.365017",
     "status": "completed"
    },
    "tags": []
   },
   "outputs": [],
   "source": [
    "# Adiciona as 4 classes alvos (CN, CR, TN, TR)\n",
    "df_model = declare_target_class(df_model)"
   ]
  },
  {
   "cell_type": "markdown",
   "metadata": {
    "papermill": {
     "duration": 0.034543,
     "end_time": "2020-10-05T10:37:02.492455",
     "exception": false,
     "start_time": "2020-10-05T10:37:02.457912",
     "status": "completed"
    },
    "tags": []
   },
   "source": [
    "# 4. Machine Learning Modeling"
   ]
  },
  {
   "cell_type": "markdown",
   "metadata": {
    "papermill": {
     "duration": 0.034284,
     "end_time": "2020-10-05T10:37:02.561828",
     "exception": false,
     "start_time": "2020-10-05T10:37:02.527544",
     "status": "completed"
    },
    "tags": []
   },
   "source": [
    "Finalmente pode ser iniciado o processo de aprendizado de máquina:"
   ]
  },
  {
   "cell_type": "code",
   "execution_count": 668,
   "metadata": {
    "execution": {
     "iopub.execute_input": "2020-10-05T10:37:02.647899Z",
     "iopub.status.busy": "2020-10-05T10:37:02.647203Z",
     "iopub.status.idle": "2020-10-05T10:37:02.649676Z",
     "shell.execute_reply": "2020-10-05T10:37:02.650131Z"
    },
    "papermill": {
     "duration": 0.053848,
     "end_time": "2020-10-05T10:37:02.650310",
     "exception": false,
     "start_time": "2020-10-05T10:37:02.596462",
     "status": "completed"
    },
    "tags": []
   },
   "outputs": [],
   "source": [
    "from xmlrpc.client import Boolean\n",
    "\n",
    "from prometheus_client import Enum\n",
    "\n",
    "\n",
    "class ClassifierOption(Enum):\n",
    "    XGB = 1\n",
    "    RANDOM_FOREST = 2\n",
    "    KNN = 3\n",
    "\n",
    "\n",
    "def split_data(df_model: pd.DataFrame):\n",
    "    \"\"\"\n",
    "    Dividi os dados em dados de treinamento e dados de teste\n",
    "    \"\"\"\n",
    "    X = df_model.drop([\"churn\", \"target_class\"], axis=1)\n",
    "    y = df_model.churn\n",
    "    z = df_model.target_class\n",
    "    X_train, X_test, y_train, y_test, z_train, z_test = train_test_split(\n",
    "        X, y, z, test_size=0.3, random_state=42, stratify=df_model[\"treatment\"]\n",
    "    )\n",
    "    return X_train, X_test, y_train, y_test, z_train, z_test\n",
    "\n",
    "\n",
    "def machine_learning(\n",
    "    X_train: pd.DataFrame,\n",
    "    X_test: pd.DataFrame,\n",
    "    y_train: pd.DataFrame,\n",
    "    y_test: pd.DataFrame,\n",
    "    z_train: pd.DataFrame,\n",
    "    z_test: pd.DataFrame,\n",
    "    classifier: ClassifierOption = ClassifierOption.XGB,\n",
    "):\n",
    "    \"\"\"\n",
    "    Machine learning consiste em treinamento de dados e processo de teste de dados\n",
    "    Este metodo foi inicialmente escrito usando RandomForestClassifier, mas,\n",
    "    neste trabalho vamos tabem o XGBClassifier\n",
    "    \"\"\"\n",
    "    # prepara um novo DataFrame\n",
    "    prediction_results = pd.DataFrame(X_test).copy()\n",
    "\n",
    "    # treina o modelo ETP\n",
    "    if classifier == ClassifierOption.RANDOM_FOREST:\n",
    "        model_tp = RandomForestClassifier().fit(\n",
    "            X_train.drop(\"treatment\", axis=1), y_train\n",
    "        )\n",
    "    elif classifier == ClassifierOption.XGB:\n",
    "        model_tp = xgb.XGBClassifier().fit(X_train.drop(\"treatment\", axis=1), y_train)\n",
    "    else:\n",
    "        model_tp = KNeighborsClassifier(n_neighbors=5).fit(\n",
    "            X_train.drop(\"treatment\", axis=1), y_train\n",
    "        )\n",
    "\n",
    "    # processo de previsão para o modelo ETP\n",
    "    prediction_tp = model_tp.predict(X_test.drop(\"treatment\", axis=1))\n",
    "    probability__tp = model_tp.predict_proba(X_test.drop(\"treatment\", axis=1))\n",
    "    prediction_results[\"prediction_churn\"] = prediction_tp\n",
    "    prediction_results[\"proba_churn\"] = probability__tp[:, 1]\n",
    "\n",
    "    # treina o modelo ETU\n",
    "    if classifier == ClassifierOption.RANDOM_FOREST:\n",
    "        model_etu = RandomForestClassifier().fit(\n",
    "            X_train.drop(\"treatment\", axis=1), z_train\n",
    "        )\n",
    "    elif classifier == ClassifierOption.XGB:\n",
    "        model_etu = xgb.XGBClassifier().fit(X_train.drop(\"treatment\", axis=1), z_train)\n",
    "    else:\n",
    "        model_etu = KNeighborsClassifier().fit(\n",
    "            X_train.drop(\"treatment\", axis=1), z_train\n",
    "        )\n",
    "\n",
    "    # processo de previsão para o modelo ETU\n",
    "    prediction_etu = model_etu.predict(X_test.drop(\"treatment\", axis=1))\n",
    "    probability__etu = model_etu.predict_proba(X_test.drop(\"treatment\", axis=1))\n",
    "    prediction_results[\"prediction_target_class\"] = prediction_etu\n",
    "    prediction_results[\"proba_CN\"] = probability__etu[:, 0]\n",
    "    prediction_results[\"proba_CR\"] = probability__etu[:, 1]\n",
    "    prediction_results[\"proba_TN\"] = probability__etu[:, 2]\n",
    "    prediction_results[\"proba_TR\"] = probability__etu[:, 3]\n",
    "    prediction_results[\"score_etu\"] = prediction_results.eval(\n",
    "        \" proba_CN/(proba_CN+proba_CR) \\\n",
    "    + proba_TR/(proba_TN+proba_TR) \\\n",
    "    - proba_TN/(proba_TN+proba_TR) \\\n",
    "    - proba_CR/(proba_CN+proba_CR)\"\n",
    "    )\n",
    "\n",
    "    # adicione o \"churn\" e \"target_class\" no dataframe como dados de validação\n",
    "    prediction_results[\"churn\"] = y_test\n",
    "    prediction_results[\"target_class\"] = z_test\n",
    "    return prediction_results\n",
    "\n",
    "\n",
    "def predict(\n",
    "    df_model: pd.DataFrame, classifier: ClassifierOption = ClassifierOption.XGB\n",
    "):\n",
    "    \"\"\"\n",
    "    Combinando a divisão de dados e o processo de aprendizado de máquina\n",
    "    com o Random Forest Classifier ou XGB Classifier (conforme testado no\n",
    "    metodo machine_learning)\n",
    "    \"\"\"\n",
    "    X_train, X_test, y_train, y_test, z_train, z_test = split_data(df_model)\n",
    "\n",
    "    prediction_results = machine_learning(\n",
    "        X_train,\n",
    "        X_test,\n",
    "        y_train,\n",
    "        y_test,\n",
    "        z_train,\n",
    "        z_test,\n",
    "        classifier=classifier,\n",
    "    )\n",
    "    print(\"Prediction has succeeded\")\n",
    "    return prediction_results"
   ]
  },
  {
   "cell_type": "code",
   "execution_count": 669,
   "metadata": {
    "execution": {
     "iopub.execute_input": "2020-10-05T10:37:02.727312Z",
     "iopub.status.busy": "2020-10-05T10:37:02.726346Z",
     "iopub.status.idle": "2020-10-05T10:37:06.295673Z",
     "shell.execute_reply": "2020-10-05T10:37:06.295147Z"
    },
    "papermill": {
     "duration": 3.610358,
     "end_time": "2020-10-05T10:37:06.295803",
     "exception": false,
     "start_time": "2020-10-05T10:37:02.685445",
     "status": "completed"
    },
    "tags": []
   },
   "outputs": [
    {
     "name": "stdout",
     "output_type": "stream",
     "text": [
      "predicting dataset ...\n",
      "Prediction has succeeded\n",
      "Prediction has succeeded\n",
      "Prediction has succeeded\n"
     ]
    }
   ],
   "source": [
    "print(\"predicting dataset ...\")\n",
    "prediction_results = predict(df_model, classifier=ClassifierOption.XGB)\n",
    "prediction_results_2 = predict(df_model, classifier=ClassifierOption.RANDOM_FOREST)\n",
    "prediction_results_3 = predict(df_model, classifier=ClassifierOption.KNN)"
   ]
  },
  {
   "cell_type": "markdown",
   "metadata": {
    "papermill": {
     "duration": 0.037203,
     "end_time": "2020-10-05T10:37:06.369384",
     "exception": false,
     "start_time": "2020-10-05T10:37:06.332181",
     "status": "completed"
    },
    "tags": []
   },
   "source": [
    "Os resultados da previsão são armazenados em predictino_results para o conjunto de dados."
   ]
  },
  {
   "cell_type": "markdown",
   "metadata": {
    "papermill": {
     "duration": 0.035818,
     "end_time": "2020-10-05T10:37:06.441869",
     "exception": false,
     "start_time": "2020-10-05T10:37:06.406051",
     "status": "completed"
    },
    "tags": []
   },
   "source": [
    "# 5. Evaluating predictive performance"
   ]
  },
  {
   "cell_type": "markdown",
   "metadata": {
    "papermill": {
     "duration": 0.035841,
     "end_time": "2020-10-05T10:37:06.513873",
     "exception": false,
     "start_time": "2020-10-05T10:37:06.478032",
     "status": "completed"
    },
    "tags": []
   },
   "source": [
    "Agora vamos avaliar o desempenho preditivo:"
   ]
  },
  {
   "cell_type": "code",
   "execution_count": 670,
   "metadata": {
    "execution": {
     "iopub.execute_input": "2020-10-05T10:37:06.596946Z",
     "iopub.status.busy": "2020-10-05T10:37:06.596233Z",
     "iopub.status.idle": "2020-10-05T10:37:06.599332Z",
     "shell.execute_reply": "2020-10-05T10:37:06.599841Z"
    },
    "papermill": {
     "duration": 0.049831,
     "end_time": "2020-10-05T10:37:06.599979",
     "exception": false,
     "start_time": "2020-10-05T10:37:06.550148",
     "status": "completed"
    },
    "tags": []
   },
   "outputs": [],
   "source": [
    "def cm_evaluation(df: pd.DataFrame):\n",
    "    \"\"\"\n",
    "    Avaliação da matriz de confusão\n",
    "    \"\"\"\n",
    "    print(\"===================================\")\n",
    "    print(\"1. ETP's confusion matrix result:\")\n",
    "    confusion_etp = confusion_matrix(df[\"churn\"], df[\"prediction_churn\"])\n",
    "    df_confusion_etp = pd.DataFrame(\n",
    "        confusion_etp, columns=[\"True\", \"False\"], index=[\"Positive\", \"Negative\"]\n",
    "    )\n",
    "    print(df_confusion_etp)\n",
    "\n",
    "    print(\"-----------------------------------\")\n",
    "\n",
    "    print(\"2. ETU's confusion matrix result:\")\n",
    "    confusion_etu = multilabel_confusion_matrix(\n",
    "        df[\"target_class\"], df[\"prediction_target_class\"]\n",
    "    )\n",
    "    print(\"a. CN's confusion matrix:\")\n",
    "    df_cn = pd.DataFrame(\n",
    "        confusion_etu[0], columns=[\"True\", \"False\"], index=[\"Positive\", \"Negative\"]\n",
    "    )\n",
    "    print(df_cn)\n",
    "    print(\"b. CR's confusion matrix:\")\n",
    "    df_cr = pd.DataFrame(\n",
    "        confusion_etu[1], columns=[\"True\", \"False\"], index=[\"Positive\", \"Negative\"]\n",
    "    )\n",
    "    print(df_cr)\n",
    "    print(\"c. TN's confusion matrix:\")\n",
    "    df_tn = pd.DataFrame(\n",
    "        confusion_etu[2], columns=[\"True\", \"False\"], index=[\"Positive\", \"Negative\"]\n",
    "    )\n",
    "    print(df_tn)\n",
    "    print(\"d. TR's confusion matrix:\")\n",
    "    df_tr = pd.DataFrame(\n",
    "        confusion_etu[3], columns=[\"True\", \"False\"], index=[\"Positive\", \"Negative\"]\n",
    "    )\n",
    "    print(df_tr)\n",
    "\n",
    "    print(\"===================================\")"
   ]
  },
  {
   "cell_type": "markdown",
   "metadata": {
    "papermill": {
     "duration": 0.036347,
     "end_time": "2020-10-05T10:37:06.672732",
     "exception": false,
     "start_time": "2020-10-05T10:37:06.636385",
     "status": "completed"
    },
    "tags": []
   },
   "source": [
    "Na [Matrix de Consusão](https://towardsdatascience.com/understanding-confusion-matrix-a9ad42dcfd62), o Verdadeiro Positivo e o Falso Negativo são a quantidade de previsões bem-sucedidas e o Verdadeiro Negativo e o Falso Positivo são a quantidade de previsões com falha. Portanto, vamos gerar as matrizes de confusão:"
   ]
  },
  {
   "cell_type": "code",
   "execution_count": 671,
   "metadata": {
    "execution": {
     "iopub.execute_input": "2020-10-05T10:37:06.751319Z",
     "iopub.status.busy": "2020-10-05T10:37:06.750555Z",
     "iopub.status.idle": "2020-10-05T10:37:06.795980Z",
     "shell.execute_reply": "2020-10-05T10:37:06.795134Z"
    },
    "papermill": {
     "duration": 0.087168,
     "end_time": "2020-10-05T10:37:06.796122",
     "exception": false,
     "start_time": "2020-10-05T10:37:06.708954",
     "status": "completed"
    },
    "tags": []
   },
   "outputs": [
    {
     "name": "stdout",
     "output_type": "stream",
     "text": [
      "===================================\n",
      "1. ETP's confusion matrix result:\n",
      "          True  False\n",
      "Positive    69     55\n",
      "Negative    45     76\n",
      "-----------------------------------\n",
      "2. ETU's confusion matrix result:\n",
      "a. CN's confusion matrix:\n",
      "          True  False\n",
      "Positive   214      8\n",
      "Negative    15      8\n",
      "b. CR's confusion matrix:\n",
      "          True  False\n",
      "Positive   225      3\n",
      "Negative    16      1\n",
      "c. TN's confusion matrix:\n",
      "          True  False\n",
      "Positive    85     62\n",
      "Negative    39     59\n",
      "d. TR's confusion matrix:\n",
      "          True  False\n",
      "Positive    92     46\n",
      "Negative    49     58\n",
      "===================================\n"
     ]
    }
   ],
   "source": [
    "cm_evaluation(prediction_results)"
   ]
  },
  {
   "cell_type": "code",
   "execution_count": 672,
   "metadata": {},
   "outputs": [
    {
     "name": "stdout",
     "output_type": "stream",
     "text": [
      "===================================\n",
      "1. ETP's confusion matrix result:\n",
      "          True  False\n",
      "Positive    72     52\n",
      "Negative    38     83\n",
      "-----------------------------------\n",
      "2. ETU's confusion matrix result:\n",
      "a. CN's confusion matrix:\n",
      "          True  False\n",
      "Positive   220      2\n",
      "Negative    18      5\n",
      "b. CR's confusion matrix:\n",
      "          True  False\n",
      "Positive   224      4\n",
      "Negative    16      1\n",
      "c. TN's confusion matrix:\n",
      "          True  False\n",
      "Positive    74     73\n",
      "Negative    36     62\n",
      "d. TR's confusion matrix:\n",
      "          True  False\n",
      "Positive    93     45\n",
      "Negative    54     53\n",
      "===================================\n"
     ]
    }
   ],
   "source": [
    "cm_evaluation(prediction_results_2)"
   ]
  },
  {
   "cell_type": "code",
   "execution_count": 673,
   "metadata": {},
   "outputs": [
    {
     "name": "stdout",
     "output_type": "stream",
     "text": [
      "===================================\n",
      "1. ETP's confusion matrix result:\n",
      "          True  False\n",
      "Positive    67     57\n",
      "Negative    61     60\n",
      "-----------------------------------\n",
      "2. ETU's confusion matrix result:\n",
      "a. CN's confusion matrix:\n",
      "          True  False\n",
      "Positive   214      8\n",
      "Negative    19      4\n",
      "b. CR's confusion matrix:\n",
      "          True  False\n",
      "Positive   219      9\n",
      "Negative    15      2\n",
      "c. TN's confusion matrix:\n",
      "          True  False\n",
      "Positive    71     76\n",
      "Negative    48     50\n",
      "d. TR's confusion matrix:\n",
      "          True  False\n",
      "Positive    88     50\n",
      "Negative    61     46\n",
      "===================================\n"
     ]
    }
   ],
   "source": [
    "cm_evaluation(prediction_results_3)"
   ]
  },
  {
   "cell_type": "markdown",
   "metadata": {
    "papermill": {
     "duration": 0.036462,
     "end_time": "2020-10-05T10:37:06.870053",
     "exception": false,
     "start_time": "2020-10-05T10:37:06.833591",
     "status": "completed"
    },
    "tags": []
   },
   "source": [
    "Calculo do resultado de precisão:"
   ]
  },
  {
   "cell_type": "code",
   "execution_count": 674,
   "metadata": {
    "execution": {
     "iopub.execute_input": "2020-10-05T10:37:06.949764Z",
     "iopub.status.busy": "2020-10-05T10:37:06.948974Z",
     "iopub.status.idle": "2020-10-05T10:37:06.951689Z",
     "shell.execute_reply": "2020-10-05T10:37:06.952125Z"
    },
    "papermill": {
     "duration": 0.045674,
     "end_time": "2020-10-05T10:37:06.952262",
     "exception": false,
     "start_time": "2020-10-05T10:37:06.906588",
     "status": "completed"
    },
    "tags": []
   },
   "outputs": [],
   "source": [
    "def accuracy_evaluation(df: pd.DataFrame):\n",
    "    \"\"\"\n",
    "    Avaliação de precisão\n",
    "    \"\"\"\n",
    "    akurasi_cp = accuracy_score(df[\"churn\"], df[\"prediction_churn\"])\n",
    "    print(\"ETP model accuracy: %.2f%%\" % (akurasi_cp * 100.0))\n",
    "\n",
    "    akurasi_uplift = accuracy_score(df[\"target_class\"], df[\"prediction_target_class\"])\n",
    "    print(\"ETU model accuracy: %.2f%%\" % (akurasi_uplift * 100.0))"
   ]
  },
  {
   "cell_type": "code",
   "execution_count": 675,
   "metadata": {
    "execution": {
     "iopub.execute_input": "2020-10-05T10:37:07.031903Z",
     "iopub.status.busy": "2020-10-05T10:37:07.031236Z",
     "iopub.status.idle": "2020-10-05T10:37:07.041093Z",
     "shell.execute_reply": "2020-10-05T10:37:07.040589Z"
    },
    "papermill": {
     "duration": 0.051763,
     "end_time": "2020-10-05T10:37:07.041215",
     "exception": false,
     "start_time": "2020-10-05T10:37:06.989452",
     "status": "completed"
    },
    "tags": []
   },
   "outputs": [
    {
     "name": "stdout",
     "output_type": "stream",
     "text": [
      "XGB\n",
      "ETP model accuracy: 59.18%\n",
      "ETU model accuracy: 51.43%\n",
      "---------------------------------\n",
      "Random Forest\n",
      "ETP model accuracy: 63.27%\n",
      "ETU model accuracy: 49.39%\n",
      "---------------------------------\n",
      "KNN\n",
      "ETP model accuracy: 51.84%\n",
      "ETU model accuracy: 41.63%\n"
     ]
    }
   ],
   "source": [
    "print(\"XGB\")\n",
    "accuracy_evaluation(prediction_results)\n",
    "print(\"---------------------------------\")\n",
    "print(\"Random Forest\")\n",
    "accuracy_evaluation(prediction_results_2)\n",
    "print(\"---------------------------------\")\n",
    "print(\"KNN\")\n",
    "accuracy_evaluation(prediction_results_3)"
   ]
  },
  {
   "cell_type": "code",
   "execution_count": 676,
   "metadata": {},
   "outputs": [
    {
     "data": {
      "text/html": [
       "<div>\n",
       "<style scoped>\n",
       "    .dataframe tbody tr th:only-of-type {\n",
       "        vertical-align: middle;\n",
       "    }\n",
       "\n",
       "    .dataframe tbody tr th {\n",
       "        vertical-align: top;\n",
       "    }\n",
       "\n",
       "    .dataframe thead th {\n",
       "        text-align: right;\n",
       "    }\n",
       "</style>\n",
       "<table border=\"1\" class=\"dataframe\">\n",
       "  <thead>\n",
       "    <tr style=\"text-align: right;\">\n",
       "      <th></th>\n",
       "      <th>age</th>\n",
       "      <th>treatment</th>\n",
       "      <th>extraversion</th>\n",
       "      <th>independ</th>\n",
       "      <th>selfcontrol</th>\n",
       "      <th>anxiety</th>\n",
       "      <th>novator</th>\n",
       "      <th>gender_f</th>\n",
       "      <th>gender_m</th>\n",
       "      <th>industry_ HoReCa</th>\n",
       "      <th>...</th>\n",
       "      <th>prediction_churn</th>\n",
       "      <th>proba_churn</th>\n",
       "      <th>prediction_target_class</th>\n",
       "      <th>proba_CN</th>\n",
       "      <th>proba_CR</th>\n",
       "      <th>proba_TN</th>\n",
       "      <th>proba_TR</th>\n",
       "      <th>score_etu</th>\n",
       "      <th>churn</th>\n",
       "      <th>target_class</th>\n",
       "    </tr>\n",
       "  </thead>\n",
       "  <tbody>\n",
       "    <tr>\n",
       "      <th>514</th>\n",
       "      <td>38.0</td>\n",
       "      <td>0</td>\n",
       "      <td>7.8</td>\n",
       "      <td>9.1</td>\n",
       "      <td>2.6</td>\n",
       "      <td>4.0</td>\n",
       "      <td>9.0</td>\n",
       "      <td>0</td>\n",
       "      <td>1</td>\n",
       "      <td>0</td>\n",
       "      <td>...</td>\n",
       "      <td>1</td>\n",
       "      <td>0.862363</td>\n",
       "      <td>2</td>\n",
       "      <td>0.008711</td>\n",
       "      <td>0.001462</td>\n",
       "      <td>0.870945</td>\n",
       "      <td>0.118882</td>\n",
       "      <td>-0.047205</td>\n",
       "      <td>1</td>\n",
       "      <td>0</td>\n",
       "    </tr>\n",
       "    <tr>\n",
       "      <th>475</th>\n",
       "      <td>34.0</td>\n",
       "      <td>1</td>\n",
       "      <td>7.0</td>\n",
       "      <td>1.9</td>\n",
       "      <td>9.5</td>\n",
       "      <td>5.6</td>\n",
       "      <td>6.0</td>\n",
       "      <td>1</td>\n",
       "      <td>0</td>\n",
       "      <td>0</td>\n",
       "      <td>...</td>\n",
       "      <td>0</td>\n",
       "      <td>0.273021</td>\n",
       "      <td>2</td>\n",
       "      <td>0.000109</td>\n",
       "      <td>0.000573</td>\n",
       "      <td>0.539900</td>\n",
       "      <td>0.459417</td>\n",
       "      <td>-0.761099</td>\n",
       "      <td>1</td>\n",
       "      <td>2</td>\n",
       "    </tr>\n",
       "    <tr>\n",
       "      <th>212</th>\n",
       "      <td>24.0</td>\n",
       "      <td>1</td>\n",
       "      <td>7.0</td>\n",
       "      <td>4.1</td>\n",
       "      <td>2.6</td>\n",
       "      <td>7.9</td>\n",
       "      <td>7.5</td>\n",
       "      <td>1</td>\n",
       "      <td>0</td>\n",
       "      <td>0</td>\n",
       "      <td>...</td>\n",
       "      <td>1</td>\n",
       "      <td>0.522591</td>\n",
       "      <td>0</td>\n",
       "      <td>0.460441</td>\n",
       "      <td>0.174643</td>\n",
       "      <td>0.321611</td>\n",
       "      <td>0.043305</td>\n",
       "      <td>-0.312640</td>\n",
       "      <td>1</td>\n",
       "      <td>2</td>\n",
       "    </tr>\n",
       "    <tr>\n",
       "      <th>53</th>\n",
       "      <td>26.0</td>\n",
       "      <td>1</td>\n",
       "      <td>3.8</td>\n",
       "      <td>4.8</td>\n",
       "      <td>5.7</td>\n",
       "      <td>7.9</td>\n",
       "      <td>2.9</td>\n",
       "      <td>1</td>\n",
       "      <td>0</td>\n",
       "      <td>0</td>\n",
       "      <td>...</td>\n",
       "      <td>1</td>\n",
       "      <td>0.954864</td>\n",
       "      <td>2</td>\n",
       "      <td>0.011243</td>\n",
       "      <td>0.004023</td>\n",
       "      <td>0.935400</td>\n",
       "      <td>0.049334</td>\n",
       "      <td>-0.426871</td>\n",
       "      <td>1</td>\n",
       "      <td>2</td>\n",
       "    </tr>\n",
       "    <tr>\n",
       "      <th>721</th>\n",
       "      <td>30.0</td>\n",
       "      <td>1</td>\n",
       "      <td>5.4</td>\n",
       "      <td>3.4</td>\n",
       "      <td>9.5</td>\n",
       "      <td>6.3</td>\n",
       "      <td>3.7</td>\n",
       "      <td>0</td>\n",
       "      <td>1</td>\n",
       "      <td>0</td>\n",
       "      <td>...</td>\n",
       "      <td>0</td>\n",
       "      <td>0.334950</td>\n",
       "      <td>3</td>\n",
       "      <td>0.020505</td>\n",
       "      <td>0.001642</td>\n",
       "      <td>0.174781</td>\n",
       "      <td>0.803071</td>\n",
       "      <td>1.494267</td>\n",
       "      <td>0</td>\n",
       "      <td>3</td>\n",
       "    </tr>\n",
       "  </tbody>\n",
       "</table>\n",
       "<p>5 rows × 53 columns</p>\n",
       "</div>"
      ],
      "text/plain": [
       "      age  treatment  extraversion  independ  selfcontrol  anxiety  novator  \\\n",
       "514  38.0          0           7.8       9.1          2.6      4.0      9.0   \n",
       "475  34.0          1           7.0       1.9          9.5      5.6      6.0   \n",
       "212  24.0          1           7.0       4.1          2.6      7.9      7.5   \n",
       "53   26.0          1           3.8       4.8          5.7      7.9      2.9   \n",
       "721  30.0          1           5.4       3.4          9.5      6.3      3.7   \n",
       "\n",
       "     gender_f  gender_m  industry_ HoReCa  ...  prediction_churn  proba_churn  \\\n",
       "514         0         1                 0  ...                 1     0.862363   \n",
       "475         1         0                 0  ...                 0     0.273021   \n",
       "212         1         0                 0  ...                 1     0.522591   \n",
       "53          1         0                 0  ...                 1     0.954864   \n",
       "721         0         1                 0  ...                 0     0.334950   \n",
       "\n",
       "     prediction_target_class  proba_CN  proba_CR  proba_TN  proba_TR  \\\n",
       "514                        2  0.008711  0.001462  0.870945  0.118882   \n",
       "475                        2  0.000109  0.000573  0.539900  0.459417   \n",
       "212                        0  0.460441  0.174643  0.321611  0.043305   \n",
       "53                         2  0.011243  0.004023  0.935400  0.049334   \n",
       "721                        3  0.020505  0.001642  0.174781  0.803071   \n",
       "\n",
       "     score_etu  churn  target_class  \n",
       "514  -0.047205      1             0  \n",
       "475  -0.761099      1             2  \n",
       "212  -0.312640      1             2  \n",
       "53   -0.426871      1             2  \n",
       "721   1.494267      0             3  \n",
       "\n",
       "[5 rows x 53 columns]"
      ]
     },
     "execution_count": 676,
     "metadata": {},
     "output_type": "execute_result"
    }
   ],
   "source": [
    "prediction_results.head()\n",
    "# prediction_results_2.head()\n",
    "# prediction_results_3.head()"
   ]
  },
  {
   "cell_type": "markdown",
   "metadata": {
    "papermill": {
     "duration": 0.037016,
     "end_time": "2020-10-05T10:37:07.115808",
     "exception": false,
     "start_time": "2020-10-05T10:37:07.078792",
     "status": "completed"
    },
    "tags": []
   },
   "source": [
    "Parece que o modelo ETP é melhor do que o modelo ETU em termos de precisão de previsão. Isso faz sentido de qualquer maneira, porque os modelos ETP preveem apenas dois resultados possíveis (O funcionário é rotatividade ou permanência), enquanto os modelos ETU preveem quatro resultados possíveis (Persuasíveis, Causas certas, Causas perdidas e Não perturbe). Mas será que a ETP também terá um melhor desempenho na resolução da rotatividade de funcionários (desempenho prescritivo)? "
   ]
  },
  {
   "cell_type": "markdown",
   "metadata": {
    "papermill": {
     "duration": 0.037945,
     "end_time": "2020-10-05T10:37:07.191452",
     "exception": false,
     "start_time": "2020-10-05T10:37:07.153507",
     "status": "completed"
    },
    "tags": []
   },
   "source": [
    "# 6. Evaluating prescriptive performance"
   ]
  },
  {
   "cell_type": "markdown",
   "metadata": {
    "papermill": {
     "duration": 0.037169,
     "end_time": "2020-10-05T10:37:07.265956",
     "exception": false,
     "start_time": "2020-10-05T10:37:07.228787",
     "status": "completed"
    },
    "tags": []
   },
   "source": [
    "Conforme explicado anteriormente, para o modelo ETP, os funcionários são classificados por sua probabilidade de rotatividade. Os funcionários com maior probabilidade de rotatividade serão alvo de uma campanha de retenção (as características de tratamento declaradas anteriormente), ou em caso e contratação, um candidato classificado como Causa perdida deve-se desde o ato da coontratação estar siente que não havera uma permanencia longa na empresa. Por outro lado, os modelos ETU são classificados por sua pontuação de elevação com a formula Lai's Generalized Weighted Uplift Method (LGWUM)."
   ]
  },
  {
   "cell_type": "code",
   "execution_count": 677,
   "metadata": {
    "execution": {
     "iopub.execute_input": "2020-10-05T10:37:07.364593Z",
     "iopub.status.busy": "2020-10-05T10:37:07.360017Z",
     "iopub.status.idle": "2020-10-05T10:37:07.367812Z",
     "shell.execute_reply": "2020-10-05T10:37:07.367158Z"
    },
    "papermill": {
     "duration": 0.06444,
     "end_time": "2020-10-05T10:37:07.367920",
     "exception": false,
     "start_time": "2020-10-05T10:37:07.303480",
     "status": "completed"
    },
    "tags": []
   },
   "outputs": [],
   "source": [
    "def sorting_data(df: pd.DataFrame):\n",
    "    \"\"\"\n",
    "    Função para classificar dados\n",
    "    \"\"\"\n",
    "    # Configurar novos DataFrames para o modelo ETP e o modelo ETU\n",
    "    df_c = pd.DataFrame({\"n\": [], \"target_class\": []})\n",
    "    df_u = df_c.copy()\n",
    "    df_c[\"target_class\"] = df[\"target_class\"]\n",
    "    df_u[\"target_class\"] = df[\"target_class\"]\n",
    "\n",
    "    # Adicionar quantis\n",
    "    df_c[\"n\"] = df.proba_churn.rank(pct=True, ascending=False)\n",
    "    df_u[\"n\"] = df.score_etu.rank(pct=True, ascending=False)\n",
    "    df_c[\"score\"] = df[\"proba_churn\"]\n",
    "    df_u[\"score\"] = df[\"score_etu\"]\n",
    "\n",
    "    # Classificando os dados por decis\n",
    "    df_c = df_c.sort_values(by=\"n\").reset_index(drop=True)\n",
    "    df_u = df_u.sort_values(by=\"n\").reset_index(drop=True)\n",
    "    df_c[\"model\"], df_u[\"model\"] = \"CP\", \"Uplift\"\n",
    "    return df_c, df_u\n",
    "\n",
    "\n",
    "def calculating_qini(df: pd.DataFrame):\n",
    "    \"\"\"\n",
    "    Função para medir o valor Qini\n",
    "    \"\"\"\n",
    "    # Carcular o C, T, CR, and TR\n",
    "    C, T = sum(df[\"target_class\"] <= 1), sum(df[\"target_class\"] >= 2)\n",
    "    df[\"cr\"] = 0\n",
    "    df[\"tr\"] = 0\n",
    "    df.loc[df.target_class == 1, \"cr\"] = 1\n",
    "    df.loc[df.target_class == 3, \"tr\"] = 1\n",
    "    df[\"cr/c\"] = df.cr.cumsum() / C\n",
    "    df[\"tr/t\"] = df.tr.cumsum() / T\n",
    "\n",
    "    # Calcular e adiciona o valor qini no Dataframe\n",
    "    df[\"uplift\"] = df[\"tr/t\"] - df[\"cr/c\"]\n",
    "    df[\"random\"] = df[\"n\"] * df[\"uplift\"].iloc[-1]\n",
    "\n",
    "    # Adicionar q0 no Dataframe\n",
    "    q0 = pd.DataFrame({\"n\": 0, \"uplift\": 0, \"target_class\": None}, index=[0])\n",
    "    qini = pd.concat([q0, df]).reset_index(drop=True)\n",
    "    return qini\n",
    "\n",
    "\n",
    "def merging_data(df_c: pd.DataFrame, df_u: pd.DataFrame):\n",
    "    \"\"\"\n",
    "    Função para adicionar a coluna 'model' e mesclar o dataframe\n",
    "    \"\"\"\n",
    "    df_u[\"model\"] = \"ETU\"\n",
    "    df_c[\"model\"] = \"ETP\"\n",
    "    df = pd.concat([df_u, df_c]).sort_values(by=\"n\").reset_index(drop=True)\n",
    "    return df\n",
    "\n",
    "\n",
    "def plot_qini(df: pd.DataFrame):\n",
    "    \"\"\"\n",
    "    Função para plotar grafico de Qini\n",
    "    \"\"\"\n",
    "    # Definir os dados que serão plotados\n",
    "    order = [\"ETU\", \"ETP\"]\n",
    "    ax = sns.lineplot(\n",
    "        x=\"n\",\n",
    "        y=df.uplift,\n",
    "        hue=\"model\",\n",
    "        data=df,\n",
    "        style=\"model\",\n",
    "        palette=[\"red\", \"deepskyblue\"],\n",
    "        style_order=order,\n",
    "        hue_order=order,\n",
    "    )\n",
    "\n",
    "    # Configurações adicionais de exibição de plotagem\n",
    "    handles, labels = ax.get_legend_handles_labels()\n",
    "    plt.xlabel(\"Proportion targeted\", fontsize=30)\n",
    "    plt.ylabel(\"Uplift\", fontsize=30)\n",
    "    plt.subplots_adjust(right=1)\n",
    "    plt.subplots_adjust(top=1)\n",
    "    plt.legend(fontsize=30)\n",
    "    ax.tick_params(labelsize=24)\n",
    "    ax.legend(handles=handles[0:], labels=labels[0:])\n",
    "    ax.plot([0, 1], [0, df.loc[len(df) - 1, \"uplift\"]], \"--\", color=\"grey\")\n",
    "    return ax\n",
    "\n",
    "\n",
    "def evaluation_qini(prediction_results: pd.DataFrame):\n",
    "    \"\"\"\n",
    "    Função para combinar todos os processos de avaliação Qini\n",
    "    \"\"\"\n",
    "    df_c, df_u = sorting_data(prediction_results)\n",
    "    qini_c, qini_u = calculating_qini(df_c), calculating_qini(df_u)\n",
    "    qini = merging_data(qini_c, qini_u)\n",
    "    ax = plot_qini(qini)\n",
    "    return ax, qini"
   ]
  },
  {
   "cell_type": "code",
   "execution_count": 678,
   "metadata": {
    "execution": {
     "iopub.execute_input": "2020-10-05T10:37:14.373234Z",
     "iopub.status.busy": "2020-10-05T10:37:14.372607Z",
     "iopub.status.idle": "2020-10-05T10:37:15.885502Z",
     "shell.execute_reply": "2020-10-05T10:37:15.884954Z"
    },
    "papermill": {
     "duration": 1.562849,
     "end_time": "2020-10-05T10:37:15.885615",
     "exception": false,
     "start_time": "2020-10-05T10:37:14.322766",
     "status": "completed"
    },
    "tags": []
   },
   "outputs": [
    {
     "data": {
      "text/plain": [
       "Text(0.5, 1.0, 'Curva de Qini')"
      ]
     },
     "execution_count": 678,
     "metadata": {},
     "output_type": "execute_result"
    },
    {
     "data": {
      "image/png": "[encoded data removed]",
      "text/plain": [
       "<Figure size 432x288 with 1 Axes>"
      ]
     },
     "metadata": {
      "needs_background": "light"
     },
     "output_type": "display_data"
    }
   ],
   "source": [
    "# Resultados da avaliação Qini para o DataSet com correlação de tratamento negativa\n",
    "ax, qini = evaluation_qini(prediction_results)\n",
    "plt.title(\"Curva de Qini\", fontsize=20)\n",
    "\n",
    "\n",
    "# save into pdf:\n",
    "# plt.savefig('qini_n.pdf', bbox_inches='tight')"
   ]
  },
  {
   "cell_type": "code",
   "execution_count": 679,
   "metadata": {
    "execution": {
     "iopub.execute_input": "2020-10-05T10:37:15.983269Z",
     "iopub.status.busy": "2020-10-05T10:37:15.982639Z",
     "iopub.status.idle": "2020-10-05T10:37:15.988978Z",
     "shell.execute_reply": "2020-10-05T10:37:15.988484Z"
    },
    "papermill": {
     "duration": 0.057433,
     "end_time": "2020-10-05T10:37:15.989089",
     "exception": false,
     "start_time": "2020-10-05T10:37:15.931656",
     "status": "completed"
    },
    "tags": []
   },
   "outputs": [],
   "source": [
    "# Inverter o parâmetro do tratamento\n",
    "df_model_inverse.treatment = df_model_inverse.treatment.replace({0: 1, 1: 0})"
   ]
  },
  {
   "cell_type": "code",
   "execution_count": 680,
   "metadata": {
    "execution": {
     "iopub.execute_input": "2020-10-05T10:37:16.086367Z",
     "iopub.status.busy": "2020-10-05T10:37:16.085741Z",
     "iopub.status.idle": "2020-10-05T10:37:16.101830Z",
     "shell.execute_reply": "2020-10-05T10:37:16.101192Z"
    },
    "papermill": {
     "duration": 0.064888,
     "end_time": "2020-10-05T10:37:16.101940",
     "exception": false,
     "start_time": "2020-10-05T10:37:16.037052",
     "status": "completed"
    },
    "tags": []
   },
   "outputs": [
    {
     "data": {
      "text/plain": [
       "4.0"
      ]
     },
     "metadata": {},
     "output_type": "display_data"
    }
   ],
   "source": [
    "# Recalcular a correlação de tratamento\n",
    "display(correlation_treatment(df_model_inverse).iloc[0, 0])"
   ]
  },
  {
   "cell_type": "markdown",
   "metadata": {
    "papermill": {
     "duration": 0.044232,
     "end_time": "2020-10-05T10:37:16.189938",
     "exception": false,
     "start_time": "2020-10-05T10:37:16.145706",
     "status": "completed"
    },
    "tags": []
   },
   "source": [
    "Agora as características do tratamento estão positivamente correlacionadas com a rotatividade de funcionários. Isso significa que, se direcionarmos os funcionários com esse tratamento, é mais provável que a taxa de rotatividade de funcionários aumente. Portanto, será sábio usar este tratamento com cuidado. Ok, agora vamos repetir o procedimento de previsão mais uma vez:"
   ]
  },
  {
   "cell_type": "code",
   "execution_count": 681,
   "metadata": {
    "execution": {
     "iopub.execute_input": "2020-10-05T10:37:16.393775Z",
     "iopub.status.busy": "2020-10-05T10:37:16.392996Z",
     "iopub.status.idle": "2020-10-05T10:37:19.894814Z",
     "shell.execute_reply": "2020-10-05T10:37:19.894244Z"
    },
    "papermill": {
     "duration": 3.552478,
     "end_time": "2020-10-05T10:37:19.894926",
     "exception": false,
     "start_time": "2020-10-05T10:37:16.342448",
     "status": "completed"
    },
    "tags": []
   },
   "outputs": [
    {
     "name": "stdout",
     "output_type": "stream",
     "text": [
      "Prediction has succeeded\n"
     ]
    },
    {
     "data": {
      "text/plain": [
       "Text(0.5, 1.0, 'Qini Curve')"
      ]
     },
     "execution_count": 681,
     "metadata": {},
     "output_type": "execute_result"
    },
    {
     "data": {
      "image/png": "[encoded data removed]",
      "text/plain": [
       "<Figure size 432x288 with 1 Axes>"
      ]
     },
     "metadata": {
      "needs_background": "light"
     },
     "output_type": "display_data"
    }
   ],
   "source": [
    "# Adicionar o recurso de classe de destino\n",
    "df_model_inverse = declare_target_class(df_model_inverse)\n",
    "\n",
    "# Fazer o processo de previsão mais uma vez\n",
    "prediction_results_inverse = predict(df_model_inverse)\n",
    "\n",
    "# Resultados da avaliação Qini para o DataSet 3 com correlação de tratamento positiva\n",
    "ax, qini_inverse = evaluation_qini(prediction_results_inverse)\n",
    "plt.title(\"Qini Curve\", fontsize=20)\n",
    "\n",
    "\n",
    "# save into pdf:\n",
    "# plt.savefig('qini_p.pdf', bbox_inches='tight')"
   ]
  },
  {
   "cell_type": "code",
   "execution_count": 682,
   "metadata": {},
   "outputs": [
    {
     "data": {
      "image/png": "[encoded data removed]",
      "text/plain": [
       "<Figure size 432x288 with 1 Axes>"
      ]
     },
     "metadata": {
      "needs_background": "light"
     },
     "output_type": "display_data"
    }
   ],
   "source": [
    "# Configurando as formas de caixa e triângulo para o Swarmplot\n",
    "fig, ax = plt.subplots(1, 1)\n",
    "a = ax.scatter([1, 2], [3, 4], marker=\"s\")\n",
    "b = ax.scatter([1, 2], [3, 4], marker=\"^\")\n",
    "(square_mk,) = a.get_paths()\n",
    "(triangle_up_mk,) = b.get_paths()\n",
    "a.remove()\n",
    "b.remove()\n",
    "\n",
    "\n",
    "def target_class_distribution(df_1: pd.DataFrame, target_class: str):\n",
    "    \"\"\"Function to visualize the target class with Swarmplot\"\"\"\n",
    "    # Add 'dataset' column\n",
    "    df_1[\"dataset\"] = \"Dataset\"\n",
    "\n",
    "    # df = pd.concat([df_1])\n",
    "    df = df_1.sort_values(by=\"n\")[: round(len(df_1))]\n",
    "\n",
    "    # Set up the Swarmplot\n",
    "    ax = sns.swarmplot(\n",
    "        data=df[df.target_class == target_class],\n",
    "        x=\"dataset\",\n",
    "        y=\"n\",\n",
    "        hue=\"model\",\n",
    "        palette=[\"deepskyblue\", \"red\"],\n",
    "        hue_order=[\"ETP\", \"ETU\"],\n",
    "        order=[\"Dataset\"],\n",
    "        size=6.5,\n",
    "    )\n",
    "\n",
    "    collections = ax.collections\n",
    "    unique_colors = np.unique(collections[0].get_facecolors(), axis=0)\n",
    "    markers = [square_mk, triangle_up_mk]\n",
    "    for collection in collections:\n",
    "        paths = []\n",
    "        for current_color in collection.get_facecolors():\n",
    "            for possible_marker, possible_color in zip(markers, unique_colors):\n",
    "                if np.array_equal(current_color, possible_color):\n",
    "                    paths.append(possible_marker)\n",
    "                    break\n",
    "        collection.set_paths(paths)\n",
    "\n",
    "    # Add swarmplot display settings\n",
    "    ax.tick_params(labelsize=24)\n",
    "    ax.legend(collections[-2:], pd.unique(df.model))\n",
    "    plt.ylabel(\"Decile\", fontsize=20)\n",
    "    plt.xlabel(\"\")\n",
    "    plt.subplots_adjust(right=1.5)\n",
    "    plt.subplots_adjust(top=1)\n",
    "    plt.legend(fontsize=20)\n",
    "    return ax"
   ]
  },
  {
   "cell_type": "code",
   "execution_count": 683,
   "metadata": {},
   "outputs": [
    {
     "data": {
      "text/plain": [
       "Text(0.5, 1.05, 'Distribuição de CN nos decis superiores')"
      ]
     },
     "execution_count": 683,
     "metadata": {},
     "output_type": "execute_result"
    },
    {
     "data": {
      "image/png": "[encoded data removed]",
      "text/plain": [
       "<Figure size 432x288 with 1 Axes>"
      ]
     },
     "metadata": {
      "needs_background": "light"
     },
     "output_type": "display_data"
    }
   ],
   "source": [
    "# Visualizar CN nos decis superiores com correlação de tratamento negativa\n",
    "target_class_distribution(qini, 0)\n",
    "plt.title(\"Distribuição de CN nos decis superiores\", fontsize=25, y=1.05)"
   ]
  },
  {
   "cell_type": "code",
   "execution_count": 684,
   "metadata": {},
   "outputs": [
    {
     "data": {
      "text/plain": [
       "Text(0.5, 1.05, 'Distribuição de CR nos decis superiores')"
      ]
     },
     "execution_count": 684,
     "metadata": {},
     "output_type": "execute_result"
    },
    {
     "data": {
      "image/png": "[encoded data removed]",
      "text/plain": [
       "<Figure size 432x288 with 1 Axes>"
      ]
     },
     "metadata": {
      "needs_background": "light"
     },
     "output_type": "display_data"
    }
   ],
   "source": [
    "# Visualizar CR nos decis superiores com correlação de tratamento negativa\n",
    "target_class_distribution(qini, 1)\n",
    "plt.title(\"Distribuição de CR nos decis superiores\", fontsize=25, y=1.05)"
   ]
  },
  {
   "cell_type": "code",
   "execution_count": 685,
   "metadata": {},
   "outputs": [
    {
     "data": {
      "text/plain": [
       "Text(0.5, 1.05, 'Distribuição de TN nos decis superiores')"
      ]
     },
     "execution_count": 685,
     "metadata": {},
     "output_type": "execute_result"
    },
    {
     "data": {
      "image/png": "[encoded data removed]",
      "text/plain": [
       "<Figure size 432x288 with 1 Axes>"
      ]
     },
     "metadata": {
      "needs_background": "light"
     },
     "output_type": "display_data"
    }
   ],
   "source": [
    "# Visualizar TN nos decis superiores com correlação de tratamento negativa\n",
    "target_class_distribution(qini, 2)\n",
    "plt.title(\"Distribuição de TN nos decis superiores\", fontsize=25, y=1.05)"
   ]
  },
  {
   "cell_type": "code",
   "execution_count": 686,
   "metadata": {},
   "outputs": [
    {
     "data": {
      "text/plain": [
       "Text(0.5, 1.05, 'Distribuição de TR nos decis superiores')"
      ]
     },
     "execution_count": 686,
     "metadata": {},
     "output_type": "execute_result"
    },
    {
     "data": {
      "image/png": "[encoded data removed]",
      "text/plain": [
       "<Figure size 432x288 with 1 Axes>"
      ]
     },
     "metadata": {
      "needs_background": "light"
     },
     "output_type": "display_data"
    }
   ],
   "source": [
    "# Visualizar TR nos decis superiores com correlação de tratamento negativa\n",
    "target_class_distribution(qini, 3)\n",
    "plt.title(\"Distribuição de TR nos decis superiores\", fontsize=25, y=1.05)"
   ]
  },
  {
   "cell_type": "markdown",
   "metadata": {},
   "source": [
    "**Inverter o parâmetro do tratamento**"
   ]
  },
  {
   "cell_type": "code",
   "execution_count": 687,
   "metadata": {},
   "outputs": [
    {
     "data": {
      "text/plain": [
       "Text(0.5, 1.05, 'Distribuição de CN nos decis superiores')"
      ]
     },
     "execution_count": 687,
     "metadata": {},
     "output_type": "execute_result"
    },
    {
     "data": {
      "image/png": "[encoded data removed]",
      "text/plain": [
       "<Figure size 432x288 with 1 Axes>"
      ]
     },
     "metadata": {
      "needs_background": "light"
     },
     "output_type": "display_data"
    }
   ],
   "source": [
    "# Visualizar CN nos decis superiores com correlação de tratamento negativa\n",
    "target_class_distribution(qini_inverse, 0)\n",
    "plt.title(\"Distribuição de CN nos decis superiores\", fontsize=25, y=1.05)"
   ]
  },
  {
   "cell_type": "code",
   "execution_count": 688,
   "metadata": {},
   "outputs": [
    {
     "data": {
      "text/plain": [
       "Text(0.5, 1.05, 'Distribuição de CR nos decis superiores')"
      ]
     },
     "execution_count": 688,
     "metadata": {},
     "output_type": "execute_result"
    },
    {
     "data": {
      "image/png": "[encoded data removed]",
      "text/plain": [
       "<Figure size 432x288 with 1 Axes>"
      ]
     },
     "metadata": {
      "needs_background": "light"
     },
     "output_type": "display_data"
    }
   ],
   "source": [
    "# Visualizar CR nos decis superiores com correlação de tratamento negativa\n",
    "target_class_distribution(qini_inverse, 1)\n",
    "plt.title(\"Distribuição de CR nos decis superiores\", fontsize=25, y=1.05)"
   ]
  },
  {
   "cell_type": "code",
   "execution_count": 689,
   "metadata": {},
   "outputs": [
    {
     "data": {
      "text/plain": [
       "Text(0.5, 1.05, 'Distribuição de TN nos decis superiores')"
      ]
     },
     "execution_count": 689,
     "metadata": {},
     "output_type": "execute_result"
    },
    {
     "data": {
      "image/png": "[encoded data removed]",
      "text/plain": [
       "<Figure size 432x288 with 1 Axes>"
      ]
     },
     "metadata": {
      "needs_background": "light"
     },
     "output_type": "display_data"
    }
   ],
   "source": [
    "# Visualizar TN nos decis superiores com correlação de tratamento negativa\n",
    "target_class_distribution(qini_inverse, 2)\n",
    "plt.title(\"Distribuição de TN nos decis superiores\", fontsize=25, y=1.05)"
   ]
  },
  {
   "cell_type": "code",
   "execution_count": 690,
   "metadata": {},
   "outputs": [
    {
     "data": {
      "text/plain": [
       "Text(0.5, 1.05, 'Distribuição de TR nos decis superiores')"
      ]
     },
     "execution_count": 690,
     "metadata": {},
     "output_type": "execute_result"
    },
    {
     "data": {
      "image/png": "[encoded data removed]",
      "text/plain": [
       "<Figure size 432x288 with 1 Axes>"
      ]
     },
     "metadata": {
      "needs_background": "light"
     },
     "output_type": "display_data"
    }
   ],
   "source": [
    "# Visualizar TR nos decis superiores com correlação de tratamento negativa\n",
    "target_class_distribution(qini_inverse, 3)\n",
    "plt.title(\"Distribuição de TR nos decis superiores\", fontsize=25, y=1.05)"
   ]
  }
 ],
 "metadata": {
  "kernelspec": {
   "display_name": "Python 3.9.7 ('base')",
   "language": "python",
   "name": "python3"
  },
  "language_info": {
   "codemirror_mode": {
    "name": "ipython",
    "version": 3
   },
   "file_extension": ".py",
   "mimetype": "text/x-python",
   "name": "python",
   "nbconvert_exporter": "python",
   "pygments_lexer": "ipython3",
   "version": "3.9.7"
  },
  "papermill": {
   "duration": 34.112117,
   "end_time": "2020-10-05T10:37:28.603451",
   "environment_variables": {},
   "exception": null,
   "input_path": "__notebook__.ipynb",
   "output_path": "__notebook__.ipynb",
   "parameters": {},
   "start_time": "2020-10-05T10:36:54.491334",
   "version": "2.1.0"
  },
  "vscode": {
   "interpreter": {
    "hash": "56f5828275351cfcb15298772e25f656d25ae36ddb5fd74bebba08be1f87cebb"
   }
  }
 },
 "nbformat": 4,
 "nbformat_minor": 4
}
